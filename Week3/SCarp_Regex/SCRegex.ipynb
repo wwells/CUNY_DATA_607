{
 "cells": [
  {
   "cell_type": "markdown",
   "metadata": {},
   "source": [
    "## Software Carpentry Regex:  Intro"
   ]
  },
  {
   "cell_type": "code",
   "execution_count": 15,
   "metadata": {
    "collapsed": false
   },
   "outputs": [
    {
     "name": "stdout",
     "output_type": "stream",
     "text": [
      "Baker 12009-11-171223.0\n",
      "Baker 12010-06-241122.7\n",
      "Baker 22009-07-242819.0\n",
      "Baker 22010-08-252971.6\n",
      "Baker 12011-01-051410.0\n",
      "Baker 22010-09-044671.6\n",
      "Baker 22011-02-193423.9\n",
      "Baker 12009-05-031246.2\n",
      "Davison/May 23, 2010/1724.7\n",
      "Pertwee/May 24, 2010/2103.8\n",
      "Davison/June 19, 2010/1731.9\n",
      "Davison/July 6, 2010/2010.7\n",
      "Pertwee/Aug 4 2010/1731.3\n",
      "Davison/Apr 22, 201/2122.2\n",
      "Pertwee/Sept 3, 2010/3981.0\n",
      "Davison/Sep , 2010/2121.6\n"
     ]
    }
   ],
   "source": [
    "readings = []\n",
    "import os\n",
    "for file in os.listdir(\"/Users/wells_walter/Dropbox/CUNY/DATA-607_DataManagement/Week3/SCarp_Regex\"):\n",
    "    if file.endswith(\".txt\"):\n",
    "        lines = open(file, 'r').read().strip().split('\\n')\n",
    "        readings += lines[0:16]\n",
    "\n",
    "for r in readings:\n",
    "    print r"
   ]
  },
  {
   "cell_type": "code",
   "execution_count": 17,
   "metadata": {
    "collapsed": false
   },
   "outputs": [
    {
     "name": "stdout",
     "output_type": "stream",
     "text": [
      "Baker 12010-06-241122.7\n"
     ]
    }
   ],
   "source": [
    "for r in readings: \n",
    "    if '06' in r:\n",
    "        print r"
   ]
  },
  {
   "cell_type": "code",
   "execution_count": 19,
   "metadata": {
    "collapsed": false
   },
   "outputs": [
    {
     "name": "stdout",
     "output_type": "stream",
     "text": [
      "Baker 12010-06-241122.7\n",
      "Baker 22009-07-242819.0\n"
     ]
    }
   ],
   "source": [
    "import re\n",
    "for r in readings:\n",
    "    if re.search('06|07', r):\n",
    "        print r"
   ]
  },
  {
   "cell_type": "markdown",
   "metadata": {},
   "source": [
    "### write a function to show matches"
   ]
  },
  {
   "cell_type": "code",
   "execution_count": 22,
   "metadata": {
    "collapsed": true
   },
   "outputs": [],
   "source": [
    "def show_matches(pattern, strings):\n",
    "    for s in strings:\n",
    "        if re.search(pattern, s):\n",
    "            print '**', s\n",
    "        else:\n",
    "            print '  ', s"
   ]
  },
  {
   "cell_type": "code",
   "execution_count": 24,
   "metadata": {
    "collapsed": false
   },
   "outputs": [
    {
     "name": "stdout",
     "output_type": "stream",
     "text": [
      "   Baker 12009-11-171223.0\n",
      "** Baker 12010-06-241122.7\n",
      "** Baker 22009-07-242819.0\n",
      "   Baker 22010-08-252971.6\n",
      "   Baker 12011-01-051410.0\n",
      "   Baker 22010-09-044671.6\n",
      "   Baker 22011-02-193423.9\n",
      "   Baker 12009-05-031246.2\n",
      "   Davison/May 23, 2010/1724.7\n",
      "   Pertwee/May 24, 2010/2103.8\n",
      "   Davison/June 19, 2010/1731.9\n",
      "   Davison/July 6, 2010/2010.7\n",
      "   Pertwee/Aug 4 2010/1731.3\n",
      "   Davison/Apr 22, 201/2122.2\n",
      "   Pertwee/Sept 3, 2010/3981.0\n",
      "   Davison/Sep , 2010/2121.6\n"
     ]
    }
   ],
   "source": [
    "show_matches('0(6|7)', readings)"
   ]
  },
  {
   "cell_type": "code",
   "execution_count": 27,
   "metadata": {
    "collapsed": false
   },
   "outputs": [
    {
     "name": "stdout",
     "output_type": "stream",
     "text": [
      "2009\n"
     ]
    }
   ],
   "source": [
    "match = re.search('(2009|2010|2011)', 'Baker 12009-11-171223.0')\n",
    "print match.group(1)"
   ]
  },
  {
   "cell_type": "code",
   "execution_count": 28,
   "metadata": {
    "collapsed": false
   },
   "outputs": [
    {
     "name": "stdout",
     "output_type": "stream",
     "text": [
      "2009 11 17\n"
     ]
    }
   ],
   "source": [
    "match = re.search('(....)-(..)-(..)', 'Baker 12009-11-171223.0')\n",
    "print match.group(1), match.group(2), match.group(3)"
   ]
  },
  {
   "cell_type": "markdown",
   "metadata": {},
   "source": [
    "## Software Carpentry Regex:  Operators"
   ]
  },
  {
   "cell_type": "markdown",
   "metadata": {},
   "source": [
    "### test procedurals"
   ]
  },
  {
   "cell_type": "code",
   "execution_count": 43,
   "metadata": {
    "collapsed": false
   },
   "outputs": [
    {
     "name": "stdout",
     "output_type": "stream",
     "text": [
      "2010 May 22\n"
     ]
    }
   ],
   "source": [
    "record = 'Davison/May 22, 2010/1721.3'\n",
    "site, date, reading = record.split('/')\n",
    "month, day, year = date.split(' ')\n",
    "if day[-1] == ',':\n",
    "    day = day[:-1]\n",
    "print year, month, day"
   ]
  },
  {
   "cell_type": "code",
   "execution_count": 44,
   "metadata": {
    "collapsed": false
   },
   "outputs": [
    {
     "name": "stdout",
     "output_type": "stream",
     "text": [
      "Davison May 22, 2010 1721.3\n"
     ]
    }
   ],
   "source": [
    "print site, date, reading"
   ]
  },
  {
   "cell_type": "code",
   "execution_count": 46,
   "metadata": {
    "collapsed": false
   },
   "outputs": [
    {
     "name": "stdout",
     "output_type": "stream",
     "text": [
      "May 22 2010\n"
     ]
    }
   ],
   "source": [
    "print month, day, year"
   ]
  },
  {
   "cell_type": "code",
   "execution_count": 47,
   "metadata": {
    "collapsed": false
   },
   "outputs": [
    {
     "name": "stdout",
     "output_type": "stream",
     "text": [
      "Davison May 22, 2010 1721.3\n"
     ]
    }
   ],
   "source": [
    "match = re.search('(.+)/(.+)/(.+)', record)\n",
    "print match.group(1), match.group(2), match.group(3)"
   ]
  },
  {
   "cell_type": "markdown",
   "metadata": {},
   "source": [
    "### function to show matches"
   ]
  },
  {
   "cell_type": "code",
   "execution_count": 52,
   "metadata": {
    "collapsed": false
   },
   "outputs": [
    {
     "name": "stdout",
     "output_type": "stream",
     "text": [
      " 1: Davison\n",
      " 2: May\n",
      " 3: 22,\n",
      " 4: 2010\n",
      " 5: 1721.3\n"
     ]
    }
   ],
   "source": [
    "def show_groups(pattern, text):\n",
    "    m = re.search(pattern, text)\n",
    "    if m is None:\n",
    "        print 'NO MATCH'\n",
    "        return\n",
    "    for i in range(1, 1+len(m.groups())):\n",
    "        print '%2d: %s' % (i, m.group(i))\n",
    "        \n",
    "show_groups('(.+)/(.+) (.+),? (.{4})/(.+)', record)"
   ]
  },
  {
   "cell_type": "code",
   "execution_count": 55,
   "metadata": {
    "collapsed": false
   },
   "outputs": [
    {
     "name": "stdout",
     "output_type": "stream",
     "text": [
      "** Davison/May , 2010/1721.3\n",
      "** Davison/May 2, 2010/1721.3\n",
      "   /May 22, 2010/1721.3\n",
      "   Davison, May 22, 2010/\n"
     ]
    }
   ],
   "source": [
    "tests = (\n",
    "    'Davison/May , 2010/1721.3',\n",
    "    'Davison/May 2, 2010/1721.3',\n",
    "    '/May 22, 2010/1721.3',\n",
    "    'Davison, May 22, 2010/'\n",
    ")\n",
    "pattern = '(.+)/(.+) (.{1,2}),? (.{4})/(.+)'\n",
    "show_matches(pattern,tests)"
   ]
  },
  {
   "cell_type": "code",
   "execution_count": 56,
   "metadata": {
    "collapsed": false
   },
   "outputs": [
    {
     "name": "stdout",
     "output_type": "stream",
     "text": [
      "   Davison/May , 2010/1721.3\n",
      "** Davison/May 2, 2010/1721.3\n",
      "   /May 22, 2010/1721.3\n",
      "   Davison, May 22, 2010/\n"
     ]
    }
   ],
   "source": [
    "pattern = '(.+)/(.+) ([0-9]{1,2}),? (.{4})/(.+)'\n",
    "show_matches(pattern,tests)"
   ]
  },
  {
   "cell_type": "code",
   "execution_count": 58,
   "metadata": {
    "collapsed": false
   },
   "outputs": [
    {
     "name": "stdout",
     "output_type": "stream",
     "text": [
      "   Davison/May , 2010/1721.3\n",
      "** Davison/May 2, 2010/1721.3\n",
      "   /May 22, 2010/1721.3\n",
      "   Davison, May 22, 2010/\n"
     ]
    }
   ],
   "source": [
    "p = '(.+)/([A-Z][a-z]+) ([0-9]{1,2}),? ([0-9]{4})/(.+)'\n",
    "show_matches(pattern, tests)"
   ]
  },
  {
   "cell_type": "markdown",
   "metadata": {},
   "source": [
    "#### function putting it all together"
   ]
  },
  {
   "cell_type": "code",
   "execution_count": 59,
   "metadata": {
    "collapsed": true
   },
   "outputs": [],
   "source": [
    "def get_date(record):\n",
    "    m = re.search('([0-9]{4})-([0-9]{2})-([0-9]{2})', record)\n",
    "    if m: \n",
    "        return m.group(1), m.group(2), m.group(3)\n",
    "    m = re.search('/([A-Z][a-z]+) ([0-9]{1,2}),? ([0-9]{4})/', record)\n",
    "    if m:\n",
    "        return m.group(3), m.group(1), m.group(2)\n",
    "    return None"
   ]
  },
  {
   "cell_type": "code",
   "execution_count": 62,
   "metadata": {
    "collapsed": false
   },
   "outputs": [
    {
     "data": {
      "text/plain": [
       "('2010', 'May', '23')"
      ]
     },
     "execution_count": 62,
     "metadata": {},
     "output_type": "execute_result"
    }
   ],
   "source": [
    "get_date('Davison/May 23, 2010/1724.7')"
   ]
  },
  {
   "cell_type": "markdown",
   "metadata": {},
   "source": [
    "## Software Carpentry Regex:  Patterns"
   ]
  },
  {
   "cell_type": "code",
   "execution_count": 79,
   "metadata": {
    "collapsed": false
   },
   "outputs": [],
   "source": [
    "def get_fields(record):\n",
    "    patterns = (\n",
    "        ('(.+)\\t([0-9]{4})-([0-9]{2})-([0-9]{2})\\t(.+)',\n",
    "          2,3,4,1,5),\n",
    "        ('(.+)/([A-Z][a-z]+) ([0-9]{1,2}),? ([0-9]{4})/(.+)', \n",
    "          4,2,3,1,5)\n",
    "    )\n",
    "    for p, y, mo, d, s, r in patterns:\n",
    "        m = re.search(p, record)\n",
    "        if m:\n",
    "            return m.group(y), m.group(mo), m.group(d), m.group(s), m.group(r)\n",
    "    return None"
   ]
  },
  {
   "cell_type": "code",
   "execution_count": 84,
   "metadata": {
    "collapsed": false
   },
   "outputs": [
    {
     "data": {
      "text/plain": [
       "('2010', 'May', '23', 'Davison', '1724.7')"
      ]
     },
     "execution_count": 84,
     "metadata": {},
     "output_type": "execute_result"
    }
   ],
   "source": [
    "get_fields('Davison/May 23, 2010/1724.7')"
   ]
  },
  {
   "cell_type": "code",
   "execution_count": null,
   "metadata": {
    "collapsed": true
   },
   "outputs": [],
   "source": []
  }
 ],
 "metadata": {
  "kernelspec": {
   "display_name": "Python 2",
   "language": "python",
   "name": "python2"
  },
  "language_info": {
   "codemirror_mode": {
    "name": "ipython",
    "version": 2
   },
   "file_extension": ".py",
   "mimetype": "text/x-python",
   "name": "python",
   "nbconvert_exporter": "python",
   "pygments_lexer": "ipython2",
   "version": "2.7.10"
  }
 },
 "nbformat": 4,
 "nbformat_minor": 0
}
